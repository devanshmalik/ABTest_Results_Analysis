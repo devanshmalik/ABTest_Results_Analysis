{
 "cells": [
  {
   "cell_type": "markdown",
   "metadata": {},
   "source": [
    "## Analyze A/B Test Results\n",
    "\n",
    "A/B tests are very commonly performed by data analysts and data scientists. The goal of this project is to understand the results of an A/B test run by an e-commerce website. \n",
    "\n",
    "## Table of Contents\n",
    "- [Introduction](#intro)\n",
    "- [Part I - Probability](#probability)\n",
    "- [Part II - A/B Test](#ab_test)\n",
    "- [Part III - Regression](#regression)\n",
    "\n",
    "<a id='probability'></a>\n",
    "#### Part I - Probability"
   ]
  },
  {
   "cell_type": "code",
   "execution_count": 2,
   "metadata": {},
   "outputs": [],
   "source": [
    "# import libraries\n",
    "import pandas as pd\n",
    "import numpy as np\n",
    "import random\n",
    "import matplotlib.pyplot as plt\n",
    "%matplotlib inline"
   ]
  },
  {
   "cell_type": "markdown",
   "metadata": {},
   "source": [
    "`1.` Read in the `ab_data.csv` data and take a look at the top few rows here:"
   ]
  },
  {
   "cell_type": "code",
   "execution_count": 160,
   "metadata": {},
   "outputs": [
    {
     "data": {
      "text/html": [
       "<div>\n",
       "<style scoped>\n",
       "    .dataframe tbody tr th:only-of-type {\n",
       "        vertical-align: middle;\n",
       "    }\n",
       "\n",
       "    .dataframe tbody tr th {\n",
       "        vertical-align: top;\n",
       "    }\n",
       "\n",
       "    .dataframe thead th {\n",
       "        text-align: right;\n",
       "    }\n",
       "</style>\n",
       "<table border=\"1\" class=\"dataframe\">\n",
       "  <thead>\n",
       "    <tr style=\"text-align: right;\">\n",
       "      <th></th>\n",
       "      <th>user_id</th>\n",
       "      <th>timestamp</th>\n",
       "      <th>group</th>\n",
       "      <th>landing_page</th>\n",
       "      <th>converted</th>\n",
       "    </tr>\n",
       "  </thead>\n",
       "  <tbody>\n",
       "    <tr>\n",
       "      <th>0</th>\n",
       "      <td>851104</td>\n",
       "      <td>2017-01-21 22:11:48.556739</td>\n",
       "      <td>control</td>\n",
       "      <td>old_page</td>\n",
       "      <td>0</td>\n",
       "    </tr>\n",
       "    <tr>\n",
       "      <th>1</th>\n",
       "      <td>804228</td>\n",
       "      <td>2017-01-12 08:01:45.159739</td>\n",
       "      <td>control</td>\n",
       "      <td>old_page</td>\n",
       "      <td>0</td>\n",
       "    </tr>\n",
       "    <tr>\n",
       "      <th>2</th>\n",
       "      <td>661590</td>\n",
       "      <td>2017-01-11 16:55:06.154213</td>\n",
       "      <td>treatment</td>\n",
       "      <td>new_page</td>\n",
       "      <td>0</td>\n",
       "    </tr>\n",
       "    <tr>\n",
       "      <th>3</th>\n",
       "      <td>853541</td>\n",
       "      <td>2017-01-08 18:28:03.143765</td>\n",
       "      <td>treatment</td>\n",
       "      <td>new_page</td>\n",
       "      <td>0</td>\n",
       "    </tr>\n",
       "    <tr>\n",
       "      <th>4</th>\n",
       "      <td>864975</td>\n",
       "      <td>2017-01-21 01:52:26.210827</td>\n",
       "      <td>control</td>\n",
       "      <td>old_page</td>\n",
       "      <td>1</td>\n",
       "    </tr>\n",
       "  </tbody>\n",
       "</table>\n",
       "</div>"
      ],
      "text/plain": [
       "   user_id                   timestamp      group landing_page  converted\n",
       "0   851104  2017-01-21 22:11:48.556739    control     old_page          0\n",
       "1   804228  2017-01-12 08:01:45.159739    control     old_page          0\n",
       "2   661590  2017-01-11 16:55:06.154213  treatment     new_page          0\n",
       "3   853541  2017-01-08 18:28:03.143765  treatment     new_page          0\n",
       "4   864975  2017-01-21 01:52:26.210827    control     old_page          1"
      ]
     },
     "execution_count": 160,
     "metadata": {},
     "output_type": "execute_result"
    }
   ],
   "source": [
    "# import dataset\n",
    "df = pd.read_csv('ab_data.csv')\n",
    "df.head()"
   ]
  },
  {
   "cell_type": "code",
   "execution_count": 161,
   "metadata": {},
   "outputs": [
    {
     "data": {
      "text/plain": [
       "294478"
      ]
     },
     "execution_count": 161,
     "metadata": {},
     "output_type": "execute_result"
    }
   ],
   "source": [
    "# number of rows in dataset\n",
    "df.shape[0]"
   ]
  },
  {
   "cell_type": "code",
   "execution_count": 162,
   "metadata": {},
   "outputs": [
    {
     "data": {
      "text/plain": [
       "290584"
      ]
     },
     "execution_count": 162,
     "metadata": {},
     "output_type": "execute_result"
    }
   ],
   "source": [
    "# number of unique users\n",
    "df['user_id'].nunique()"
   ]
  },
  {
   "cell_type": "code",
   "execution_count": 163,
   "metadata": {},
   "outputs": [
    {
     "data": {
      "text/plain": [
       "0.12104245244060237"
      ]
     },
     "execution_count": 163,
     "metadata": {},
     "output_type": "execute_result"
    }
   ],
   "source": [
    "# proportion of unique users converted\n",
    "df.query('converted == 1').user_id.nunique() / df['user_id'].nunique()"
   ]
  },
  {
   "cell_type": "code",
   "execution_count": 164,
   "metadata": {},
   "outputs": [
    {
     "data": {
      "text/plain": [
       "3893"
      ]
     },
     "execution_count": 164,
     "metadata": {},
     "output_type": "execute_result"
    }
   ],
   "source": [
    "# Number of times new_page and treatment don't line up\n",
    "df[((df['group'] == 'treatment') == (df['landing_page'] == 'new_page')) == False].shape[0]"
   ]
  },
  {
   "cell_type": "code",
   "execution_count": 165,
   "metadata": {},
   "outputs": [
    {
     "data": {
      "text/plain": [
       "user_id         False\n",
       "timestamp       False\n",
       "group           False\n",
       "landing_page    False\n",
       "converted       False\n",
       "dtype: bool"
      ]
     },
     "execution_count": 165,
     "metadata": {},
     "output_type": "execute_result"
    }
   ],
   "source": [
    "# check for missing values\n",
    "df.isnull().any()"
   ]
  },
  {
   "cell_type": "markdown",
   "metadata": {},
   "source": [
    "`2.` For the rows where **treatment** is not aligned with **new_page** or **control** is not aligned with **old_page**, we cannot be sure if this row truly received the new or old page. Thus, these rows must be removed from the analysis "
   ]
  },
  {
   "cell_type": "code",
   "execution_count": 166,
   "metadata": {},
   "outputs": [],
   "source": [
    "# remove rows where treatment is not aligned with new_page\n",
    "df2 = df[((df['group'] == 'treatment') == (df['landing_page'] == 'new_page')) == True]"
   ]
  },
  {
   "cell_type": "code",
   "execution_count": 167,
   "metadata": {},
   "outputs": [
    {
     "data": {
      "text/plain": [
       "0"
      ]
     },
     "execution_count": 167,
     "metadata": {},
     "output_type": "execute_result"
    }
   ],
   "source": [
    "# Double Check all of the correct rows were removed - this should be 0\n",
    "df2[((df2['group'] == 'treatment') == (df2['landing_page'] == 'new_page')) == False].shape[0]"
   ]
  },
  {
   "cell_type": "code",
   "execution_count": 177,
   "metadata": {},
   "outputs": [
    {
     "data": {
      "text/plain": [
       "290584"
      ]
     },
     "execution_count": 177,
     "metadata": {},
     "output_type": "execute_result"
    }
   ],
   "source": [
    "# Unique users\n",
    "df2['user_id'].nunique()"
   ]
  },
  {
   "cell_type": "code",
   "execution_count": 169,
   "metadata": {},
   "outputs": [
    {
     "data": {
      "text/plain": [
       "2893    773192\n",
       "Name: user_id, dtype: int64"
      ]
     },
     "execution_count": 169,
     "metadata": {},
     "output_type": "execute_result"
    }
   ],
   "source": [
    "# duplicate user_id entries\n",
    "dup_user = df2['user_id'][df2['user_id'].duplicated()]\n",
    "dup_user"
   ]
  },
  {
   "cell_type": "code",
   "execution_count": 170,
   "metadata": {},
   "outputs": [
    {
     "data": {
      "text/html": [
       "<div>\n",
       "<style scoped>\n",
       "    .dataframe tbody tr th:only-of-type {\n",
       "        vertical-align: middle;\n",
       "    }\n",
       "\n",
       "    .dataframe tbody tr th {\n",
       "        vertical-align: top;\n",
       "    }\n",
       "\n",
       "    .dataframe thead th {\n",
       "        text-align: right;\n",
       "    }\n",
       "</style>\n",
       "<table border=\"1\" class=\"dataframe\">\n",
       "  <thead>\n",
       "    <tr style=\"text-align: right;\">\n",
       "      <th></th>\n",
       "      <th>user_id</th>\n",
       "      <th>timestamp</th>\n",
       "      <th>group</th>\n",
       "      <th>landing_page</th>\n",
       "      <th>converted</th>\n",
       "    </tr>\n",
       "  </thead>\n",
       "  <tbody>\n",
       "    <tr>\n",
       "      <th>2893</th>\n",
       "      <td>773192</td>\n",
       "      <td>2017-01-14 02:55:59.590927</td>\n",
       "      <td>treatment</td>\n",
       "      <td>new_page</td>\n",
       "      <td>0</td>\n",
       "    </tr>\n",
       "  </tbody>\n",
       "</table>\n",
       "</div>"
      ],
      "text/plain": [
       "      user_id                   timestamp      group landing_page  converted\n",
       "2893   773192  2017-01-14 02:55:59.590927  treatment     new_page          0"
      ]
     },
     "execution_count": 170,
     "metadata": {},
     "output_type": "execute_result"
    }
   ],
   "source": [
    "# repeated row information\n",
    "df2[df2['user_id'].duplicated()]"
   ]
  },
  {
   "cell_type": "code",
   "execution_count": 171,
   "metadata": {},
   "outputs": [
    {
     "data": {
      "text/html": [
       "<div>\n",
       "<style scoped>\n",
       "    .dataframe tbody tr th:only-of-type {\n",
       "        vertical-align: middle;\n",
       "    }\n",
       "\n",
       "    .dataframe tbody tr th {\n",
       "        vertical-align: top;\n",
       "    }\n",
       "\n",
       "    .dataframe thead th {\n",
       "        text-align: right;\n",
       "    }\n",
       "</style>\n",
       "<table border=\"1\" class=\"dataframe\">\n",
       "  <thead>\n",
       "    <tr style=\"text-align: right;\">\n",
       "      <th></th>\n",
       "      <th>user_id</th>\n",
       "      <th>timestamp</th>\n",
       "      <th>group</th>\n",
       "      <th>landing_page</th>\n",
       "      <th>converted</th>\n",
       "    </tr>\n",
       "  </thead>\n",
       "  <tbody>\n",
       "  </tbody>\n",
       "</table>\n",
       "</div>"
      ],
      "text/plain": [
       "Empty DataFrame\n",
       "Columns: [user_id, timestamp, group, landing_page, converted]\n",
       "Index: []"
      ]
     },
     "execution_count": 171,
     "metadata": {},
     "output_type": "execute_result"
    }
   ],
   "source": [
    "# drop duplicate row\n",
    "df2 = df2.drop(dup_user.index)\n",
    "\n",
    "# confirm drop of duplicate row\n",
    "df2[df2['user_id'].duplicated()]"
   ]
  },
  {
   "cell_type": "markdown",
   "metadata": {},
   "source": [
    "`3.` What is the probability of an individual converting regardless of the page they receive?"
   ]
  },
  {
   "cell_type": "code",
   "execution_count": 179,
   "metadata": {},
   "outputs": [
    {
     "data": {
      "text/plain": [
       "0.11965919355605512"
      ]
     },
     "execution_count": 179,
     "metadata": {},
     "output_type": "execute_result"
    }
   ],
   "source": [
    "# Conversion probability regardless of landing page\n",
    "df['user_id'][df['converted'] == 1].count() / df['user_id'].count()"
   ]
  },
  {
   "cell_type": "markdown",
   "metadata": {},
   "source": [
    "a. Given that an individual was in the `control` group, what is the probability they converted?"
   ]
  },
  {
   "cell_type": "code",
   "execution_count": 248,
   "metadata": {},
   "outputs": [
    {
     "data": {
      "text/plain": [
       "0.12039917935897611"
      ]
     },
     "execution_count": 248,
     "metadata": {},
     "output_type": "execute_result"
    }
   ],
   "source": [
    "# Conversion rate GIVEN an individual was in \"control\" group\n",
    "converted = df.query('group == \"control\" and converted == 1')['user_id'].count()\n",
    "total = df.query('group == \"control\"')['user_id'].count()\n",
    "old_conv_rate = converted / total\n",
    "old_conv_rate"
   ]
  },
  {
   "cell_type": "markdown",
   "metadata": {},
   "source": [
    "b. Given that an individual was in the `treatment` group, what is the probability they converted?"
   ]
  },
  {
   "cell_type": "code",
   "execution_count": 246,
   "metadata": {},
   "outputs": [
    {
     "data": {
      "text/plain": [
       "0.11891957956489856"
      ]
     },
     "execution_count": 246,
     "metadata": {},
     "output_type": "execute_result"
    }
   ],
   "source": [
    "# Conversion rate GIVEN an individual was in \"treatment\" group\n",
    "converted = df.query('group == \"treatment\" and converted == 1')['user_id'].count()\n",
    "total = df.query('group == \"treatment\"')['user_id'].count()\n",
    "new_conv_rate = converted / total\n",
    "new_conv_rate"
   ]
  },
  {
   "cell_type": "markdown",
   "metadata": {},
   "source": [
    "c. What is the probability that an individual received the new page?"
   ]
  },
  {
   "cell_type": "code",
   "execution_count": 247,
   "metadata": {},
   "outputs": [
    {
     "data": {
      "text/plain": [
       "0.5"
      ]
     },
     "execution_count": 247,
     "metadata": {},
     "output_type": "execute_result"
    }
   ],
   "source": [
    "# Probability of receiving new page\n",
    "new_page = df.query('landing_page == \"new_page\"')['user_id'].count()\n",
    "total = df.shape[0]\n",
    "\n",
    "new_page_prob = new_page / total\n",
    "new_page_prob "
   ]
  },
  {
   "cell_type": "markdown",
   "metadata": {},
   "source": [
    "#### Observations "
   ]
  },
  {
   "cell_type": "markdown",
   "metadata": {},
   "source": [
    "The probability of conversion in the treatment group is **lower** than the conversion rate of users in control group. Without further analysis, we're unable to say with sufficient evidence where the difference in control vs treatment conversion rates is significant. "
   ]
  },
  {
   "cell_type": "markdown",
   "metadata": {},
   "source": [
    "<a id='ab_test'></a>\n",
    "### Part II - A/B Test\n",
    " \n",
    "`1.` Assume that the old page is better unless the new page proves to be definitely better at a Type I error rate of 5%. Based on that assumption, the null and alternative hypotheses are given below:"
   ]
  },
  {
   "cell_type": "markdown",
   "metadata": {},
   "source": [
    "$$H_{0}: p_{new} - p_{old} \\leq 0$$ \n",
    "$$H_{1}: p_{new} - p_{old} > 0$$"
   ]
  },
  {
   "cell_type": "markdown",
   "metadata": {},
   "source": [
    "`2.` Assume under the null hypothesis, $p_{new}$ and $p_{old}$ both have \"true\" success rates equal to the **converted** success rate regardless of page - that is $p_{new}$ and $p_{old}$ are equal. Furthermore, assume they are equal to the **converted** rate in **ab_data.csv** regardless of the page. <br><br>"
   ]
  },
  {
   "cell_type": "markdown",
   "metadata": {},
   "source": [
    "a. **Convert rate** for $p_{new}$ under the null"
   ]
  },
  {
   "cell_type": "code",
   "execution_count": 259,
   "metadata": {},
   "outputs": [
    {
     "data": {
      "text/plain": [
       "0.11959708724499628"
      ]
     },
     "execution_count": 259,
     "metadata": {},
     "output_type": "execute_result"
    }
   ],
   "source": [
    "p_new = df2[df2['converted'] == 1]['user_id'].count() / df2['user_id'].count()\n",
    "p_new"
   ]
  },
  {
   "cell_type": "markdown",
   "metadata": {},
   "source": [
    "b. **Convert rate** for $p_{old}$ under the null <br><br>"
   ]
  },
  {
   "cell_type": "code",
   "execution_count": 258,
   "metadata": {},
   "outputs": [
    {
     "data": {
      "text/plain": [
       "0.11959708724499628"
      ]
     },
     "execution_count": 258,
     "metadata": {},
     "output_type": "execute_result"
    }
   ],
   "source": [
    "p_old = df2[df2['converted'] == 1]['user_id'].count() / df2['user_id'].count()\n",
    "p_old"
   ]
  },
  {
   "cell_type": "markdown",
   "metadata": {},
   "source": [
    "c. What is $n_{new}$?"
   ]
  },
  {
   "cell_type": "code",
   "execution_count": 221,
   "metadata": {},
   "outputs": [
    {
     "data": {
      "text/plain": [
       "145310"
      ]
     },
     "execution_count": 221,
     "metadata": {},
     "output_type": "execute_result"
    }
   ],
   "source": [
    "n_new = df2.query('group == \"treatment\"')['user_id'].count()\n",
    "n_new"
   ]
  },
  {
   "cell_type": "markdown",
   "metadata": {},
   "source": [
    "d. What is $n_{old}$?"
   ]
  },
  {
   "cell_type": "code",
   "execution_count": 222,
   "metadata": {},
   "outputs": [
    {
     "data": {
      "text/plain": [
       "145274"
      ]
     },
     "execution_count": 222,
     "metadata": {},
     "output_type": "execute_result"
    }
   ],
   "source": [
    "n_old = df2.query('group == \"control\"')['user_id'].count()\n",
    "n_old"
   ]
  },
  {
   "cell_type": "markdown",
   "metadata": {},
   "source": [
    "e. Simulate $n_{new}$ transactions with a convert rate of $p_{new}$ under the null.  "
   ]
  },
  {
   "cell_type": "code",
   "execution_count": 260,
   "metadata": {},
   "outputs": [
    {
     "data": {
      "text/plain": [
       "0.11957883146376712"
      ]
     },
     "execution_count": 260,
     "metadata": {},
     "output_type": "execute_result"
    }
   ],
   "source": [
    "new_page_converted = np.random.choice([0,1], size=n_new, p=[1-p_new, p_new])\n",
    "new_page_converted.mean()"
   ]
  },
  {
   "cell_type": "markdown",
   "metadata": {},
   "source": [
    "f. Simulate $n_{old}$ transactions with a convert rate of $p_{old}$ under the null"
   ]
  },
  {
   "cell_type": "code",
   "execution_count": 261,
   "metadata": {},
   "outputs": [
    {
     "data": {
      "text/plain": [
       "0.11856904883186255"
      ]
     },
     "execution_count": 261,
     "metadata": {},
     "output_type": "execute_result"
    }
   ],
   "source": [
    "old_page_converted = np.random.choice([0,1], size=n_old, p=[1-p_old, p_old])\n",
    "old_page_converted.mean()"
   ]
  },
  {
   "cell_type": "markdown",
   "metadata": {},
   "source": [
    "g. Find $p_{new}$ - $p_{old}$ for your simulated values from part (e) and (f)."
   ]
  },
  {
   "cell_type": "code",
   "execution_count": 231,
   "metadata": {},
   "outputs": [
    {
     "data": {
      "text/plain": [
       "-0.0015093080425366417"
      ]
     },
     "execution_count": 231,
     "metadata": {},
     "output_type": "execute_result"
    }
   ],
   "source": [
    "p_new = new_page_converted.mean()\n",
    "p_old = old_page_converted.mean()\n",
    "p_new - p_old"
   ]
  },
  {
   "cell_type": "markdown",
   "metadata": {},
   "source": [
    "h. Simulate 10,000 $p_{new}$ - $p_{old}$ values using this same process similarly to the one you calculated in parts **a. through g.** above.  Store all 10,000 values in a numpy array called **p_diffs**."
   ]
  },
  {
   "cell_type": "code",
   "execution_count": 262,
   "metadata": {},
   "outputs": [
    {
     "data": {
      "text/plain": [
       "[-0.0006422082878957958,\n",
       " -0.0017092190321660594,\n",
       " -0.001323846290066752,\n",
       " -0.0009590389119699949,\n",
       " -0.0008627852584700557,\n",
       " -0.0014134466245743077,\n",
       " -0.0014134039902767292,\n",
       " -0.0006426755597971207,\n",
       " 0.0018557440175835521,\n",
       " 0.0016079227834357862,\n",
       " 0.0033492275352640655,\n",
       " 0.0038379608787818265,\n",
       " 0.0023237943264374367,\n",
       " 0.0015873164905075426,\n",
       " 0.0015736039740099489,\n",
       " 0.00014877001278441881,\n",
       " -0.0009455668529106814,\n",
       " -0.0017094816594390855,\n",
       " -0.0013172458376033425,\n",
       " 0.001484140069254597,\n",
       " 0.0009816737447764234,\n",
       " -0.002328649330758492,\n",
       " -0.004462421835001257,\n",
       " -0.004834233838702323,\n",
       " -0.0038362836455155674,\n",
       " -0.002156876219579551,\n",
       " -0.002913962053809588,\n",
       " -0.0015578867928408152,\n",
       " -0.0017713482886370785,\n",
       " -0.0025352767381406904,\n",
       " -0.0029207023467689996,\n",
       " -0.00035324950425526247,\n",
       " 0.0006102949055386275,\n",
       " -0.0005803570070449099,\n",
       " -0.0012409214443862976,\n",
       " -0.002458942112692236,\n",
       " -0.004420112695011372,\n",
       " -0.0036424222732249906,\n",
       " -0.004709051014189072,\n",
       " -0.004309957228732647,\n",
       " -0.0034361478778266313,\n",
       " -0.004688663008864377,\n",
       " -0.003945252172950067,\n",
       " -0.0034703046769217205,\n",
       " -0.0027340110211572927,\n",
       " -0.003429219993957927,\n",
       " -0.003023055073392969,\n",
       " -0.0038765156425280417,\n",
       " -0.0035667254568681195,\n",
       " -0.003986594367071147,\n",
       " -0.004268487131718859,\n",
       " -0.0036905149925369057,\n",
       " -0.0045438988199363595,\n",
       " -0.005473097134353969,\n",
       " -0.00536994799905148,\n",
       " -0.005720822867675182,\n",
       " -0.008432714173083541,\n",
       " -0.008935182202933614,\n",
       " -0.008659900122980721,\n",
       " -0.008419092041296788,\n",
       " -0.009155569877226696,\n",
       " -0.008549753183561506,\n",
       " -0.008556546343049906,\n",
       " -0.010717626209626574,\n",
       " -0.011385654017614086,\n",
       " -0.010745480996341206,\n",
       " -0.010683440419209142,\n",
       " -0.009802287073690172,\n",
       " -0.009120886118213684,\n",
       " -0.008591080029335466,\n",
       " -0.01016041043610029,\n",
       " -0.011564225404397138,\n",
       " -0.011625877156735409,\n",
       " -0.011281665839335486,\n",
       " -0.012348494108812183,\n",
       " -0.013208920079997827,\n",
       " -0.011804907288560262,\n",
       " -0.01187363870286659,\n",
       " -0.013463551527353013,\n",
       " -0.013374258159787933,\n",
       " -0.012589515361983938,\n",
       " -0.012885448074534553,\n",
       " -0.013202062116377117,\n",
       " -0.01188062627475188,\n",
       " -0.01218336067365039,\n",
       " -0.010139249897303679,\n",
       " -0.010490341348159044,\n",
       " -0.011385023030010114,\n",
       " -0.010848210610155659,\n",
       " -0.0127274556947293,\n",
       " -0.012121650938667447,\n",
       " -0.012087378174282987,\n",
       " -0.012424743465665508,\n",
       " -0.012273262858984738,\n",
       " -0.013629300601771643,\n",
       " -0.014475768482905715,\n",
       " -0.01594195998659946,\n",
       " -0.017118761247561287,\n",
       " -0.017290909540558827,\n",
       " -0.018894461550551037,\n",
       " -0.019389846507689254,\n",
       " -0.018824984888723265,\n",
       " -0.017895783163561843,\n",
       " -0.02024980520697356,\n",
       " -0.01825359785365757,\n",
       " -0.019141402812797026,\n",
       " -0.020297348796532833,\n",
       " -0.01896892708839419,\n",
       " -0.019615772187750374,\n",
       " -0.01872097454060992,\n",
       " -0.016670026265105345,\n",
       " -0.014921590690151948,\n",
       " -0.014446675596189743,\n",
       " -0.01495585833842071,\n",
       " -0.01489423046128907,\n",
       " -0.014522636745191539,\n",
       " -0.012664212830405877,\n",
       " -0.0134213566472806,\n",
       " -0.014185542607941512,\n",
       " -0.013930979375462435,\n",
       " -0.015645033042229597,\n",
       " -0.014819007738321122,\n",
       " -0.014330288037778596,\n",
       " -0.013538924323048374,\n",
       " -0.014839706121332105,\n",
       " -0.013139671938005013,\n",
       " -0.014626531128015485,\n",
       " -0.013731886964346282,\n",
       " -0.013298438556654052,\n",
       " -0.011061844348514094,\n",
       " -0.011172183994958312,\n",
       " -0.010318737068798461,\n",
       " -0.01027731472219795,\n",
       " -0.011082656991442563,\n",
       " -0.010325927579940164,\n",
       " -0.010367157219515685,\n",
       " -0.00996120547043855,\n",
       " -0.009741051432096137,\n",
       " -0.009094025563318286,\n",
       " -0.009899323492893436,\n",
       " -0.00995414627293334,\n",
       " -0.007785996976620052,\n",
       " -0.008343403751799428,\n",
       " -0.007600119113405912,\n",
       " -0.006746917760800039,\n",
       " -0.007084439946397625,\n",
       " -0.008791374727642978,\n",
       " -0.009197292369282059,\n",
       " -0.008584858169434453,\n",
       " -0.010360365765399185,\n",
       " -0.011179246603207321,\n",
       " -0.01060784763053832,\n",
       " -0.010992942397017522,\n",
       " -0.012803126930507641,\n",
       " -0.011433618834033307,\n",
       " -0.012782472887166121,\n",
       " -0.012961538831800942,\n",
       " -0.012108035628368305,\n",
       " -0.011130736067779257,\n",
       " -0.01105508359109185,\n",
       " -0.010394268464080772,\n",
       " -0.011846404671524494,\n",
       " -0.012307559498575829,\n",
       " -0.011633308125315392,\n",
       " -0.012528044379067349,\n",
       " -0.012858362410547997,\n",
       " -0.01490267783152302,\n",
       " -0.014523934533209451,\n",
       " -0.015109095478161208,\n",
       " -0.015680444995045034,\n",
       " -0.016224185298768193,\n",
       " -0.016210254494667065,\n",
       " -0.01575619638330278,\n",
       " -0.015226095265085421,\n",
       " -0.015212556696521884,\n",
       " -0.01499927255940349,\n",
       " -0.0139323146816622,\n",
       " -0.01551513761194917,\n",
       " -0.01601044071123607,\n",
       " -0.017724276090399727,\n",
       " -0.017345843169772404,\n",
       " -0.017765652391958847,\n",
       " -0.016306305208910576,\n",
       " -0.01639577422978164,\n",
       " -0.017441868303437386,\n",
       " -0.015336029033016799,\n",
       " -0.016375430564126395,\n",
       " -0.017394106426274605,\n",
       " -0.01844020902678986,\n",
       " -0.017869202289658465,\n",
       " -0.015432901736517401,\n",
       " -0.014772328772316504,\n",
       " -0.014627689075537381,\n",
       " -0.01580480412492931,\n",
       " -0.01665145959697266,\n",
       " -0.016513725614227523,\n",
       " -0.017456675668696464,\n",
       " -0.016782478867336928,\n",
       " -0.017119767416983844,\n",
       " -0.016954478792978928,\n",
       " -0.01583968229633921,\n",
       " -0.015275588094729398,\n",
       " -0.01416751142658626,\n",
       " -0.01352042757516371,\n",
       " -0.013155436016901473,\n",
       " -0.013100425645952263,\n",
       " -0.010519393305949337,\n",
       " -0.011304130987637606,\n",
       " -0.012143872218787488,\n",
       " -0.010492072300640226,\n",
       " -0.010787827654512958,\n",
       " -0.0113314264123682,\n",
       " -0.012639004780884117,\n",
       " -0.011599673170022529,\n",
       " -0.009851297283085703,\n",
       " -0.012197994090975411,\n",
       " -0.011034809845684612,\n",
       " -0.011255035509646932,\n",
       " -0.010147119146462644,\n",
       " -0.010862719535331786,\n",
       " -0.01191600070938545,\n",
       " -0.011613027558420544,\n",
       " -0.014407309928103823,\n",
       " -0.014668915304369076,\n",
       " -0.014049633373132184,\n",
       " -0.01290692410713315,\n",
       " -0.01267267895973076,\n",
       " -0.010504602994409279,\n",
       " -0.011234159767958066,\n",
       " -0.01109667476951072,\n",
       " -0.012308142735766539,\n",
       " -0.013079155963353892,\n",
       " -0.013630069724499719,\n",
       " -0.01408453883049253,\n",
       " -0.013299845488473738,\n",
       " -0.012962292606181897,\n",
       " -0.01308637717118985,\n",
       " -0.0150206360374565,\n",
       " -0.014160170842717118,\n",
       " -0.013533969554471031,\n",
       " -0.0168031721342322,\n",
       " -0.01592923658580539,\n",
       " -0.01700981318458962,\n",
       " -0.017718497627193366,\n",
       " -0.017752893178354823,\n",
       " -0.01868890341135175,\n",
       " -0.017697862342942794,\n",
       " -0.02043013312681634,\n",
       " -0.01935650146561982,\n",
       " -0.020451104369331743,\n",
       " -0.019893523646218284,\n",
       " -0.017918169864756445,\n",
       " -0.01835869793441669,\n",
       " -0.01998315126667631,\n",
       " -0.019996986569950886,\n",
       " -0.019928265387875996,\n",
       " -0.01861362441111103,\n",
       " -0.018310874663865398,\n",
       " -0.01976291025436684,\n",
       " -0.02021724975209506,\n",
       " -0.019322680624789562,\n",
       " -0.01767067265127016,\n",
       " -0.019054002408043877,\n",
       " -0.020230697935947742,\n",
       " -0.02114600296444609,\n",
       " -0.019783126017129407,\n",
       " -0.020099641147401634,\n",
       " -0.01835823918937489,\n",
       " -0.01735357087306344,\n",
       " -0.017725128776351018,\n",
       " -0.01743612394766912,\n",
       " -0.015178393075939198,\n",
       " -0.014751528066991343,\n",
       " -0.013292660093447733,\n",
       " -0.012982827273490233,\n",
       " -0.015832418454205688,\n",
       " -0.014393883914085887,\n",
       " -0.01392610646473641,\n",
       " -0.0144078181289308,\n",
       " -0.014001709485638641,\n",
       " -0.014579928903746472,\n",
       " -0.013609154759257114,\n",
       " -0.013464470722808541,\n",
       " -0.012253060739197408,\n",
       " -0.01257633662689188,\n",
       " -0.01099326130156332,\n",
       " -0.010731698559595618,\n",
       " -0.012335342659670567,\n",
       " -0.012624497561079903,\n",
       " -0.011633683307133977,\n",
       " -0.011495913511578873,\n",
       " -0.009072778050554647,\n",
       " -0.00848084270520541,\n",
       " -0.01044940673792269,\n",
       " -0.010112096018441027,\n",
       " -0.010965484961956193,\n",
       " -0.010848461299825349,\n",
       " -0.010614451493745528,\n",
       " -0.012775887783049847,\n",
       " -0.011523026461515873,\n",
       " -0.011447271662514302,\n",
       " -0.012610304129705763,\n",
       " -0.013794176525776136,\n",
       " -0.014406544216119532,\n",
       " -0.013098924918677951,\n",
       " -0.012149110079100675,\n",
       " -0.011405929468393222,\n",
       " -0.011543433225931501,\n",
       " -0.012899046331114675,\n",
       " -0.013525445442501463,\n",
       " -0.01415190594727675,\n",
       " -0.012796021687961054,\n",
       " -0.011825484590166163,\n",
       " -0.011756787283297904,\n",
       " -0.012693003866295058,\n",
       " -0.011701773501604895,\n",
       " -0.01046965149200757,\n",
       " -0.011908308818904353,\n",
       " -0.013849311388874241,\n",
       " -0.013828715328177407,\n",
       " -0.015604497489018473,\n",
       " -0.016223955073561322,\n",
       " -0.01627190113088961,\n",
       " -0.01684318754901304,\n",
       " -0.016003420737284627,\n",
       " -0.015225810467977663,\n",
       " -0.017111679880221345,\n",
       " -0.015535702975951762,\n",
       " -0.014090387213946884,\n",
       " -0.013181807130060827,\n",
       " -0.015060521843972746,\n",
       " -0.01495730278842225,\n",
       " -0.01369769094169744,\n",
       " -0.014964193154109087,\n",
       " -0.013360526884199392,\n",
       " -0.012307429890311236,\n",
       " -0.011646671040572945,\n",
       " -0.010008440387683448,\n",
       " -0.009464539779001455,\n",
       " -0.010579711457459742,\n",
       " -0.011894273987117163,\n",
       " -0.011254390879067738,\n",
       " -0.011261192565415662,\n",
       " -0.012066215930114477,\n",
       " -0.012437944370592313,\n",
       " -0.013841752517401551,\n",
       " -0.0135320800024029,\n",
       " -0.01139152968701887,\n",
       " -0.008328911880342335,\n",
       " -0.008459700925499733,\n",
       " -0.008170788186900577,\n",
       " -0.009361390643698939,\n",
       " -0.0075099832921209225,\n",
       " -0.0075445527912164495,\n",
       " -0.008019321223195014,\n",
       " -0.006856087522119053,\n",
       " -0.005273025839765702,\n",
       " -0.005376094822588773,\n",
       " -0.0047842191652561344,\n",
       " -0.0050802780753275295,\n",
       " -0.00668390171093966,\n",
       " -0.00636028133812086,\n",
       " -0.00607808672264637,\n",
       " -0.005644397857515887,\n",
       " -0.0052314414828344424,\n",
       " -0.003180239106916366,\n",
       " -0.003792804620400464,\n",
       " -0.0047908537251575845,\n",
       " -0.0056099699042882895,\n",
       " -0.0046463726279654255,\n",
       " -0.004364184833978546,\n",
       " -0.0047360360612333785,\n",
       " -0.004192268471559776,\n",
       " -0.0016387174418248107,\n",
       " -0.0010398166944250303,\n",
       " -0.0015011829875922755,\n",
       " -0.003097848042641446,\n",
       " -0.003896107239174218,\n",
       " -0.0051488952297163715,\n",
       " -0.0045502417612424545,\n",
       " -0.004502029665897356,\n",
       " -0.005465671281889697,\n",
       " -0.005837155854185469,\n",
       " -0.006043568384707931,\n",
       " -0.0055412845350233525,\n",
       " -0.004811775511887814,\n",
       " -0.005809747874909302,\n",
       " -0.0060712355805132845,\n",
       " -0.007027703739082944,\n",
       " -0.0066079456780535895,\n",
       " -0.007241069734052655,\n",
       " -0.006270476358984978,\n",
       " -0.007509110141706771,\n",
       " -0.007550510318472536,\n",
       " -0.008142452485309398,\n",
       " -0.00900988649284315,\n",
       " -0.009154371000779135,\n",
       " -0.00969836028880007,\n",
       " -0.009801396869557,\n",
       " -0.009312728330171549,\n",
       " -0.01034500244889984,\n",
       " -0.00789445389248375,\n",
       " -0.007564113691168356,\n",
       " -0.00801833381286339,\n",
       " -0.008624026014379671,\n",
       " -0.007639875311657537,\n",
       " -0.006304605872129623,\n",
       " -0.007708536805715843,\n",
       " -0.007729001552776171,\n",
       " -0.008906062030267212,\n",
       " -0.00846585457052465,\n",
       " -0.0075850354778985996,\n",
       " -0.0071925847792031344,\n",
       " -0.007674257219843772,\n",
       " -0.0060296171161439704,\n",
       " -0.0051621336528250295,\n",
       " -0.005058878784464579,\n",
       " -0.0032830676323011704,\n",
       " -0.0006403050928524417,\n",
       " -0.0004821438812288442,\n",
       " 0.000364080131723149,\n",
       " 0.0009697552795204095,\n",
       " 0.00026763036045440725,\n",
       " 0.0006392854699404371,\n",
       " -0.0007233322608470455,\n",
       " -0.0010810412178848122,\n",
       " -0.0016248429149964827,\n",
       " -0.002127128470052961,\n",
       " -0.0014042045510337248,\n",
       " 0.0010322273157438583,\n",
       " 0.0011422429415265667,\n",
       " 0.0020784015418790353,\n",
       " 0.001631047910664235,\n",
       " 0.0012249494996034727,\n",
       " 0.0005092399669325842,\n",
       " 0.0008530829240015192,\n",
       " 0.001128301905194029,\n",
       " -0.0004202295016175611,\n",
       " -0.001321714575188454,\n",
       " -0.0014798928405310718,\n",
       " -0.0010943751418200226,\n",
       " -0.000874222808849523,\n",
       " -0.0026361474965812676,\n",
       " -0.0022850082953126405,\n",
       " -0.0022780036697083172,\n",
       " -0.002924939153775341,\n",
       " -0.002986891051568477,\n",
       " -0.004081215979660269,\n",
       " -0.005588703632433717,\n",
       " -0.006745219210385012,\n",
       " -0.00797710928940358,\n",
       " -0.01059253376982415,\n",
       " -0.010262075897847486,\n",
       " -0.010812677575935153,\n",
       " -0.009084890928207565,\n",
       " -0.00799038693606599,\n",
       " -0.00598043978030198,\n",
       " -0.00432865350512994,\n",
       " -0.003943140922534602,\n",
       " -0.00461078331647212,\n",
       " -0.006138722073330688,\n",
       " -0.006021660893017977,\n",
       " -0.005140679790061178,\n",
       " -0.004899955271600476,\n",
       " -0.005891108894555033,\n",
       " -0.005189081181687483,\n",
       " -0.004225490726852216,\n",
       " -0.0036541804335221556,\n",
       " -0.0017752218514281576,\n",
       " -0.0025253610426985706,\n",
       " -0.0024427209941258604,\n",
       " -0.0037710489068098624,\n",
       " -0.003695386197891032,\n",
       " -0.002181204297199535,\n",
       " -0.0023188274307709977,\n",
       " -0.0010181019097600663,\n",
       " -0.0020024555517386133,\n",
       " -0.0009012283203566479,\n",
       " -0.0025875278173514288,\n",
       " -0.003124254968610754,\n",
       " -0.0038468429293651712,\n",
       " -0.0037298533746723955,\n",
       " -0.0038466758029187115,\n",
       " -0.004218146732239261,\n",
       " -0.00313756331196742,\n",
       " -0.0037981874373253927,\n",
       " -0.0024076978661042303,\n",
       " -0.003584599744008335,\n",
       " -0.004210867541758617,\n",
       " -0.004224885319826774,\n",
       " -0.004458647846980718,\n",
       " -0.004479503124206738,\n",
       " -0.006213915804976267,\n",
       " -0.005415501419600358,\n",
       " -0.004616974479678876,\n",
       " -0.005270769632738509,\n",
       " -0.007576717715929243,\n",
       " -0.006998747282119189,\n",
       " -0.007741817043652982,\n",
       " -0.008147912043969918,\n",
       " -0.007191217070937228,\n",
       " -0.006427273273086481,\n",
       " -0.006482107990729721,\n",
       " -0.00600025136992359,\n",
       " -0.006881038060483485,\n",
       " -0.006997983275506811,\n",
       " -0.005518246381761946,\n",
       " -0.006289075429183805,\n",
       " -0.0068466237502311095,\n",
       " -0.007617519307157192,\n",
       " -0.006275180437892644,\n",
       " -0.006481664594035028,\n",
       " -0.007231843008859193,\n",
       " -0.006123643553939073,\n",
       " -0.005387077038670238,\n",
       " -0.0060408380842918025,\n",
       " -0.003927869696117983,\n",
       " -0.003914133304413772,\n",
       " -0.005036231161368879,\n",
       " -0.0047124880017730825,\n",
       " -0.004058718429291994,\n",
       " -0.00619920564591564,\n",
       " -0.006329984458841642,\n",
       " -0.006921730507909674,\n",
       " -0.007355318756097906,\n",
       " -0.007651193486003821,\n",
       " -0.009151722558214337,\n",
       " -0.00964053093809579,\n",
       " -0.008959227188817767,\n",
       " -0.010046702680148373,\n",
       " -0.010865716536964914,\n",
       " -0.011554195449037533,\n",
       " -0.011258122895990902,\n",
       " -0.010060674413175152,\n",
       " -0.011106744611624267,\n",
       " -0.013784095409259456,\n",
       " -0.016303073529155082,\n",
       " -0.01688795479311482,\n",
       " -0.01480253763545697,\n",
       " -0.014272526901950425,\n",
       " -0.013150463152433386,\n",
       " -0.012537802138122722,\n",
       " -0.012558483467414672,\n",
       " -0.013473790201284933,\n",
       " -0.012531034559212853,\n",
       " -0.011815130614145061,\n",
       " -0.011470777750877223,\n",
       " -0.010672283213021883,\n",
       " -0.010238701786321261,\n",
       " -0.008565910161195761,\n",
       " -0.009419290577851402,\n",
       " -0.009288791445917446,\n",
       " -0.009316236943375453,\n",
       " -0.010417469290873116,\n",
       " -0.010479484287426663,\n",
       " -0.012034979390916883,\n",
       " -0.011615074667903902,\n",
       " -0.010403744836772214,\n",
       " -0.009481527272752283,\n",
       " -0.008345805578638524,\n",
       " -0.006356660833571559,\n",
       " -0.0066871459914986525,\n",
       " -0.006466862344891661,\n",
       " -0.006645657135393945,\n",
       " -0.005330980345819053,\n",
       " -0.0036583268558176563,\n",
       " -0.005199903092810085,\n",
       " -0.004305233348562337,\n",
       " -0.0025708104355613853,\n",
       " -0.0023229994336450427,\n",
       " -0.0009877965036213243,\n",
       " -0.0006437761878744924,\n",
       " 0.00027148961707007535,\n",
       " 0.0014759597792091822,\n",
       " 0.0010834050528276545,\n",
       " 0.001131415914288239,\n",
       " 0.00014020430868899592,\n",
       " 0.00011970033807491565,\n",
       " -0.00043090986687224775,\n",
       " -3.192181447378428e-05,\n",
       " 0.00018824757221573563,\n",
       " -0.001814611394720722,\n",
       " -0.0016149834968271354,\n",
       " -0.0010091992052281007,\n",
       " -0.0012363032972739496,\n",
       " -0.0006236763904013398,\n",
       " 0.0010556594099147831,\n",
       " 0.0018126582701777777,\n",
       " 0.0035676141451151666,\n",
       " 0.002900092832582718,\n",
       " 0.0012139348814558665,\n",
       " -0.0008438662415537063,\n",
       " -0.0002587342879242782,\n",
       " 0.0015995668400843877,\n",
       " 0.0037537989752717688,\n",
       " 0.0028176659554978445,\n",
       " 0.0024527818356654824,\n",
       " 0.0026455568860540707,\n",
       " 0.0032789640337890086,\n",
       " 0.00252877538673342,\n",
       " 0.0032101626992346727,\n",
       " 0.0023501340797023595,\n",
       " 0.0019301713740446785,\n",
       " 0.005137520967583076,\n",
       " 0.006603589684499825,\n",
       " 0.005068670177243564,\n",
       " 0.004407962488662362,\n",
       " 0.0046489547505117745,\n",
       " 0.00581221232679438,\n",
       " 0.004711153927230802,\n",
       " 0.004683674322334727,\n",
       " 0.0063765896201400385,\n",
       " 0.004304966836831112,\n",
       " 0.003692201794834399,\n",
       " 0.004580042566783793,\n",
       " 0.003506310288645023,\n",
       " 0.003575057051298458,\n",
       " 0.004813912532367584,\n",
       " 0.006913197395366166,\n",
       " 0.0034099202053928662,\n",
       " 0.0024393541162756327,\n",
       " -5.905011275791905e-05,\n",
       " 0.0012624027825863665,\n",
       " 0.0010419690632519213,\n",
       " 0.0017303899926798538,\n",
       " 0.0016959347535018127,\n",
       " 0.002184678329250969,\n",
       " 0.002108834850910471,\n",
       " 0.002948661350655468,\n",
       " 0.003726319370375708,\n",
       " 0.0030930998135500765,\n",
       " 0.003643970940398353,\n",
       " 0.0023220780591031998,\n",
       " 0.002452901211698666,\n",
       " 0.001971157145438121,\n",
       " 0.0037745007690265647,\n",
       " 0.005632697869349182,\n",
       " 0.003657289515986442,\n",
       " 0.0036296035610901556,\n",
       " 0.004799766851406734,\n",
       " 0.003533568195193751,\n",
       " 0.0018885972493448422,\n",
       " 0.001785139441727951,\n",
       " 0.000559822529222348,\n",
       " 0.0008556767946654442,\n",
       " 0.0005941652138548165,\n",
       " -5.2818020625483575e-05,\n",
       " 0.0003052064302142832,\n",
       " 0.00203949632420683,\n",
       " 0.00245941298482312,\n",
       " 0.0028105487753479486,\n",
       " 0.0038568628419791418,\n",
       " 0.00276272209405283,\n",
       " 0.0009250511341790391,\n",
       " -0.00042382338341660775,\n",
       " 0.0013517558381680311,\n",
       " 0.0013104272870221728,\n",
       " -0.0004790094076717877,\n",
       " -0.0004031915099098199,\n",
       " 0.0008631572190306025,\n",
       " 0.004421495941110173,\n",
       " 0.006947744724626961,\n",
       " 0.0056745124514872985,\n",
       " 0.005736454117049011,\n",
       " 0.006114982538502858,\n",
       " 0.005991128198701776,\n",
       " 0.007188738691848259,\n",
       " 0.007883850458450428,\n",
       " 0.008771578675854264,\n",
       " 0.00900563793771926,\n",
       " 0.009349758870408342,\n",
       " 0.009914115699291154,\n",
       " 0.009404598704167294,\n",
       " 0.009769256009536598,\n",
       " 0.010099620086058608,\n",
       " 0.009473212447812324,\n",
       " 0.010388626620112418,\n",
       " 0.011166427891072472,\n",
       " 0.01109081804868263,\n",
       " 0.010905057856129788,\n",
       " 0.010278648512511576,\n",
       " 0.011841201108135122,\n",
       " 0.01225415748281658,\n",
       " 0.014036947680005768,\n",
       " 0.014849008072375061,\n",
       " 0.014559950377164177,\n",
       " 0.012205943682099568,\n",
       " 0.011145980197731178,\n",
       " 0.009218841922358237,\n",
       " 0.010540255594148742,\n",
       " 0.011304112418032447,\n",
       " 0.010629617176589931,\n",
       " 0.009273673229257665,\n",
       " 0.009280710256928143,\n",
       " 0.007594627342164997,\n",
       " 0.0090607318718917,\n",
       " 0.008909462731326853,\n",
       " 0.008434791505546713,\n",
       " 0.008586045297764466,\n",
       " 0.009164184563392866,\n",
       " 0.009384292556693916,\n",
       " 0.009453039319347337,\n",
       " 0.007498225321309518,\n",
       " 0.006548521330905929,\n",
       " 0.007071726967320738,\n",
       " 0.005406161666146908,\n",
       " 0.005055170832233821,\n",
       " 0.004208680781265017,\n",
       " 0.0022608765249472335,\n",
       " 0.0026874720851344513,\n",
       " 0.0020472155006383413,\n",
       " 0.0032722885449618933,\n",
       " 0.0036854939039411283,\n",
       " 0.003775215319853767,\n",
       " 0.0057094417840542755,\n",
       " 0.005812712000761874,\n",
       " 0.006438952512561699,\n",
       " 0.00607431226091143,\n",
       " 0.005661274028378641,\n",
       " 0.004842401717430028,\n",
       " 0.0063290613789279,\n",
       " 0.006727907885458434,\n",
       " 0.00652134187146472,\n",
       " 0.004773191093619067,\n",
       " 0.0026118997609264616,\n",
       " 0.003341645830756468,\n",
       " 0.003527518577854896,\n",
       " 0.0025156989739555102,\n",
       " 0.0032107766331196386,\n",
       " 0.003086891596624286,\n",
       " 0.0054269811305629745,\n",
       " 0.006349282257806135,\n",
       " 0.007766889895079995,\n",
       " 0.007030480274026196,\n",
       " 0.008702915476424058,\n",
       " 0.0106231173410688,\n",
       " 0.011063338443786569,\n",
       " 0.01102192632941748,\n",
       " 0.008234619594016182,\n",
       " 0.00672022111109305,\n",
       " 0.005364243056322729,\n",
       " 0.006630354738568683,\n",
       " 0.006836816724876321,\n",
       " 0.007222493023174334,\n",
       " 0.0069954145117070154,\n",
       " 0.006272708880291314,\n",
       " 0.006747605215162572,\n",
       " 0.006734061530483337,\n",
       " 0.007463701867255368,\n",
       " 0.007559964047614817,\n",
       " 0.007098833095770141,\n",
       " 0.006761539430007513,\n",
       " 0.008316968023993537,\n",
       " 0.007043534516969374,\n",
       " 0.007993497723902176,\n",
       " 0.007353386096017808,\n",
       " 0.005963085821077838,\n",
       " 0.0063004101835347215,\n",
       " 0.003602355886772851,\n",
       " 0.003568045604206524,\n",
       " 0.002005670367260848,\n",
       " 0.0016819988332849728,\n",
       " 0.000587457322961546,\n",
       " 0.0018330974366595615,\n",
       " 0.003705387351414069,\n",
       " 0.002011909280880894,\n",
       " -0.0005488152062767676,\n",
       " -0.0014506140682777335,\n",
       " -0.0013266420578153526,\n",
       " -0.0030402250419373916,\n",
       " -0.005159938839186334,\n",
       " -0.005242555012552413,\n",
       " -0.0054282248203944145,\n",
       " -0.003934731070482492,\n",
       " -0.004368431873216297,\n",
       " -0.003260147149701048,\n",
       " -0.0046298735337789165,\n",
       " -0.00433385384726126,\n",
       " -0.001560261333729468,\n",
       " -0.0010370471704551354,\n",
       " -0.0016289330600191831,\n",
       " -0.0006929944526421622,\n",
       " -0.0002593107036273773,\n",
       " 0.001151894304323789,\n",
       " 0.00029167809388218335,\n",
       " -0.0017592343688124512,\n",
       " -0.002433765423064907,\n",
       " 4.3916547751016166e-05,\n",
       " 5.769216300899327e-05,\n",
       " 0.001544113072440484,\n",
       " 0.00261085948406585,\n",
       " 0.0022667197922858623,\n",
       " 0.0013649294571443926,\n",
       " 0.0016885839374012473,\n",
       " 0.001984726410695886,\n",
       " 0.0029071452086003174,\n",
       " 0.0022808586517591017,\n",
       " 0.0011588341257958157,\n",
       " -0.000458947128380488,\n",
       " -0.00040390264999322356,\n",
       " -0.002241384313585837,\n",
       " -0.0010987074496529164,\n",
       " -0.003218743562191456,\n",
       " -0.005724017692449027,\n",
       " -0.0054830288413434125,\n",
       " -0.007093520672807649,\n",
       " -0.005820216774048079,\n",
       " -0.005895852197016466,\n",
       " -0.005668799266127678,\n",
       " -0.004429926731339531,\n",
       " -0.0042507533482748355,\n",
       " -0.005923173202325577,\n",
       " -0.004312763228712671,\n",
       " -0.0034179485278531957,\n",
       " -0.0032664252868748467,\n",
       " -0.0027639538462809615,\n",
       " -0.000320309298526944,\n",
       " 0.0008977966383741237,\n",
       " 5.107806757037592e-05,\n",
       " 0.0011456161671499904,\n",
       " 0.0006638431095671027,\n",
       " 0.0010838126367123807,\n",
       " 0.00281829864847373,\n",
       " 0.0016136153148468002,\n",
       " 0.0020675659877811975,\n",
       " 0.0028109324840260297,\n",
       " 0.0015099511572297108,\n",
       " 0.0017302348038367027,\n",
       " 0.0008973123127537785,\n",
       " 0.0013307487828426723,\n",
       " 0.001613129283854542,\n",
       " 0.0013721233790299076,\n",
       " 0.002549260598256581,\n",
       " 0.0027764243783190146,\n",
       " 0.0037605989562477793,\n",
       " 0.0028177188220268323,\n",
       " 0.003705725015050773,\n",
       " 0.004098092150523022,\n",
       " 0.0026043732915199402,\n",
       " 0.002418546589462875,\n",
       " 0.0012414537099056933,\n",
       " 6.470531547284053e-05,\n",
       " 0.0003054485930244627,\n",
       " 0.0005943493940203104,\n",
       " 0.0018401446965614632,\n",
       " 0.0019844467297038537,\n",
       " 0.0011654772125567758,\n",
       " 0.0012961400601933931,\n",
       " 0.001984216504496983,\n",
       " 0.0008624358467157894,\n",
       " 0.0017160567208096972,\n",
       " 0.0033471650774335865,\n",
       " 0.00418668802097992,\n",
       " 0.0038289585994793207,\n",
       " 0.0031683174204023,\n",
       " 0.003918388396796618,\n",
       " 0.0031543712679540648,\n",
       " 0.004675296872348772,\n",
       " 0.005129655129167923,\n",
       " 0.006072463637768949,\n",
       " 0.004558348246581662,\n",
       " 0.003663731368862888,\n",
       " 0.0028240600579610142,\n",
       " 0.002638151498052632,\n",
       " 0.004049218370879695,\n",
       " 0.0033126109266851944,\n",
       " 0.003002650203835,\n",
       " 0.004709405921030599,\n",
       " 0.005645358171382842,\n",
       " 0.00515674932001399,\n",
       " 0.00539084439468894,\n",
       " 0.007503961150218286,\n",
       " 0.00965801933747161,\n",
       " 0.009733815065398832,\n",
       " 0.009513630330362177,\n",
       " 0.008474261201318709,\n",
       " 0.007104536522612739,\n",
       " 0.006781218000620717,\n",
       " 0.007352274193537275,\n",
       " 0.007854665481651743,\n",
       " 0.007145755929956837,\n",
       " 0.004984667536520659,\n",
       " 0.003952195594651653,\n",
       " 0.0029129202610628374,\n",
       " 0.004007567504444226,\n",
       " 0.0038287505441071956,\n",
       " 0.005212157042616503,\n",
       " 0.00423489670558122,\n",
       " 0.0031063092453363916,\n",
       " 0.0019362124645240092,\n",
       " 0.001956782944642299,\n",
       " 0.0023493751892056797,\n",
       " 0.004200944551114458,\n",
       " 0.003065161463612201,\n",
       " 0.0023425700921139714,\n",
       " 0.002824520508374742,\n",
       " 0.003202926143051593,\n",
       " 0.0030376989124351744,\n",
       " 0.004076865102222202,\n",
       " 0.005488073520917194,\n",
       " 0.00627960265672195,\n",
       " 0.003588554690936316,\n",
       " 0.0029830517857012268,\n",
       " 0.0030863134755492877,\n",
       " 0.0021917835717975565,\n",
       " 0.0019096588765710881,\n",
       " 0.0017582345471630761,\n",
       " 0.002061234984078425,\n",
       " 0.003492749550246768,\n",
       " 0.0044494240588166395,\n",
       " 0.0038712131675683187,\n",
       " 0.006005028306108648,\n",
       " 0.005226960997131783,\n",
       " 0.005391935832706626,\n",
       " 0.006830557346793456,\n",
       " 0.00552964082412942,\n",
       " 0.005302408829190863,\n",
       " 0.005818543330497167,\n",
       " 0.006073173072480453,\n",
       " 0.0047999561476879254,\n",
       " 0.003616198011535038,\n",
       " 0.00427683236912442,\n",
       " 0.005095807002387209,\n",
       " 0.0023704453432914496,\n",
       " 0.0019573917624115394,\n",
       " 0.0027626078341353583,\n",
       " 0.00398083144169771,\n",
       " 0.004648306709188782,\n",
       " 0.004538120546215801,\n",
       " 0.005150443896889748,\n",
       " 0.004255673535699722,\n",
       " 0.005143688255583201,\n",
       " 0.003608852311550184,\n",
       " 0.0030925557999131464,\n",
       " 0.006809314950145529,\n",
       " 0.007084278125552637,\n",
       " 0.008185750930488567,\n",
       " 0.009396976733934206,\n",
       " 0.010814867462943911,\n",
       " 0.00974118634596223,\n",
       " 0.010677288669041898,\n",
       " 0.009066842882619039,\n",
       " 0.007703660673731794,\n",
       " 0.005611402606172267,\n",
       " 0.005308475500248752,\n",
       " 0.005858829899410514,\n",
       " 0.006650376088934318,\n",
       " 0.0066436545550658255,\n",
       " 0.004482564456257748,\n",
       " 0.003931974715773404,\n",
       " 0.0035190456270424025,\n",
       " 0.002679422066553805,\n",
       " 0.0032715398866966228,\n",
       " 0.005247059089233036,\n",
       " 0.005405448820691605,\n",
       " 0.0056466082089874775,\n",
       " 0.006940608785386118,\n",
       " 0.006775197374604219,\n",
       " 0.007559803742655968,\n",
       " 0.009184190565411393,\n",
       " 0.008853991909963915,\n",
       " 0.008406590528335839,\n",
       " 0.009610924260722728,\n",
       " 0.011400545135582155,\n",
       " 0.011882422220851119,\n",
       " 0.013706227180756092,\n",
       " 0.012728745145373463,\n",
       " 0.012990130528663282,\n",
       " 0.013368800495985059,\n",
       " 0.011414387260344355,\n",
       " 0.010409650729156825,\n",
       " 0.009776228233074766,\n",
       " 0.00892286998625387,\n",
       " 0.008647688523243213,\n",
       " 0.009322197407660951,\n",
       " 0.009535710064614303,\n",
       " 0.009329196917149563,\n",
       " 0.0066516704662084175,\n",
       " 0.007023550684785607,\n",
       " 0.007285285669315467,\n",
       " 0.005771032143004062,\n",
       " 0.0059568810148958595,\n",
       " 0.0033344928377966043,\n",
       " 0.004600727306819541,\n",
       " 0.004566483533757437,\n",
       " 0.0043462527536794054,\n",
       " 0.0023297324314024287,\n",
       " 0.0027976360782727,\n",
       " 0.00177898920744686,\n",
       " 0.0027768353729475392,\n",
       " 0.003651069361457329,\n",
       " 0.002288185592653036,\n",
       " 0.0033068137043879287,\n",
       " 0.0013659646178893065,\n",
       " 0.0004370323414884941,\n",
       " -0.0017928369220391593,\n",
       " -0.0010286560774939585,\n",
       " -0.0007326756145300817,\n",
       " 0.0003891135701106496,\n",
       " 0.0005129338024736918,\n",
       " ...]"
      ]
     },
     "execution_count": 262,
     "metadata": {},
     "output_type": "execute_result"
    }
   ],
   "source": [
    "# Create sampling distribution with bootstrapping\n",
    "p_diffs = []\n",
    "for _ in range(10000):\n",
    "    p_new = np.random.choice([0,1], size=n_new, p=[1-p_new, p_new]).mean()\n",
    "    p_old = np.random.choice([0,1], size=n_old, p=[1-p_old, p_old]).mean()\n",
    "    p_diffs.append(p_new - p_old)"
   ]
  },
  {
   "cell_type": "code",
   "execution_count": 263,
   "metadata": {},
   "outputs": [
    {
     "data": {
      "image/png": "[encoded data removed]",
      "text/plain": [
       "<matplotlib.figure.Figure at 0x129006278>"
      ]
     },
     "metadata": {},
     "output_type": "display_data"
    }
   ],
   "source": [
    "# Convert to numpy array\n",
    "p_diffs = np.array(p_diffs)\n",
    "\n",
    "plt.hist(p_diffs);"
   ]
  },
  {
   "cell_type": "markdown",
   "metadata": {},
   "source": [
    "j. What proportion of the **p_diffs** are greater than the actual difference observed in **ab_data.csv**?"
   ]
  },
  {
   "cell_type": "code",
   "execution_count": 264,
   "metadata": {},
   "outputs": [
    {
     "data": {
      "text/plain": [
       "0.4356"
      ]
     },
     "execution_count": 264,
     "metadata": {},
     "output_type": "execute_result"
    }
   ],
   "source": [
    "obs_diff = new_conv_rate - old_conv_rate\n",
    "\n",
    "# Compute p-value\n",
    "(p_diffs > obs_diff).mean()"
   ]
  },
  {
   "cell_type": "markdown",
   "metadata": {},
   "source": [
    "### A/B Test Interpretation\n",
    "The value calculated in the cell above is the p-value. \n",
    "\n",
    "The p-value here means:\n",
    "Given that the null hypothesis is true that the conversion rate of old page is higher than new page, the probability that an effect equal to or greater than the observed difference (new_page_rate - old_page_rate) exists is 0.4356\n",
    "\n",
    "Since the p-value is lower than the significance value (0.05), we **failed to reject the null hypothesis**. Hence, we're unable to say with sufficient evidence that the new page has a higher conversion rate than the old page.  "
   ]
  },
  {
   "cell_type": "markdown",
   "metadata": {},
   "source": [
    "l. We could also use a built-in to achieve similar results.  Though using the built-in might be easier to code, the above portions are a walkthrough of the ideas that are critical to correctly thinking about statistical significance. Fill in the below to calculate the number of conversions for each page, as well as the number of individuals who received each page. Let `n_old` and `n_new` refer the the number of rows associated with the old page and new pages, respectively."
   ]
  },
  {
   "cell_type": "code",
   "execution_count": 265,
   "metadata": {},
   "outputs": [
    {
     "name": "stderr",
     "output_type": "stream",
     "text": [
      "/Users/Devansh/anaconda3/lib/python3.6/site-packages/statsmodels/compat/pandas.py:56: FutureWarning: The pandas.core.datetools module is deprecated and will be removed in a future version. Please use the pandas.tseries module instead.\n",
      "  from pandas.core import datetools\n"
     ]
    }
   ],
   "source": [
    "import statsmodels.api as sm\n",
    "\n",
    "convert_old = df2.query('group == \"control\" and converted == 1')['user_id'].count()\n",
    "convert_new = df.query('group == \"treatment\" and converted == 1')['user_id'].count()\n",
    "n_old = df2.query('group == \"control\"')['user_id'].count()\n",
    "n_new = df.query('group == \"treatment\"')['user_id'].count()"
   ]
  },
  {
   "cell_type": "markdown",
   "metadata": {},
   "source": [
    "m. Now use `stats.proportions_ztest` to compute your test statistic and p-value.  [Here](http://knowledgetack.com/python/statsmodels/proportions_ztest/) is a helpful link on using the built in."
   ]
  },
  {
   "cell_type": "code",
   "execution_count": 267,
   "metadata": {},
   "outputs": [
    {
     "data": {
      "text/plain": [
       "(1.222159202933665, 0.22164742838801588)"
      ]
     },
     "execution_count": 267,
     "metadata": {},
     "output_type": "execute_result"
    }
   ],
   "source": [
    "sm.stats.proportions_ztest([convert_new, convert_old], [n_new, n_old])\n",
    "sm.stats.proportions_ztest([convert_old, convert_new], [n_old, n_new])"
   ]
  },
  {
   "cell_type": "markdown",
   "metadata": {},
   "source": [
    "n. What do the z-score and p-value you computed in the previous question mean for the conversion rates of the old and new pages?  Do they agree with the findings in parts **j.** and **k.**?"
   ]
  },
  {
   "cell_type": "markdown",
   "metadata": {},
   "source": [
    "**Put your answer here.**"
   ]
  },
  {
   "cell_type": "markdown",
   "metadata": {},
   "source": [
    "<a id='regression'></a>\n",
    "### Part III - A regression approach\n",
    "\n",
    "`1.` In this final part, you will see that the result you acheived in the previous A/B test can also be acheived by performing regression.<br><br>\n",
    "\n",
    "a. Since each row is either a conversion or no conversion, what type of regression should you be performing in this case?"
   ]
  },
  {
   "cell_type": "markdown",
   "metadata": {},
   "source": [
    "**Put your answer here.**"
   ]
  },
  {
   "cell_type": "markdown",
   "metadata": {},
   "source": [
    "b. The goal is to use **statsmodels** to fit the regression model you specified in part **a.** to see if there is a significant difference in conversion based on which page a customer receives.  However, you first need to create a column for the intercept, and create a dummy variable column for which page each user received.  Add an **intercept** column, as well as an **ab_page** column, which is 1 when an individual receives the **treatment** and 0 if **control**."
   ]
  },
  {
   "cell_type": "code",
   "execution_count": null,
   "metadata": {},
   "outputs": [],
   "source": []
  },
  {
   "cell_type": "markdown",
   "metadata": {},
   "source": [
    "c. Use **statsmodels** to import your regression model.  Instantiate the model, and fit the model using the two columns you created in part **b.** to predict whether or not an individual converts."
   ]
  },
  {
   "cell_type": "code",
   "execution_count": null,
   "metadata": {},
   "outputs": [],
   "source": []
  },
  {
   "cell_type": "markdown",
   "metadata": {},
   "source": [
    "d. Provide the summary of your model below, and use it as necessary to answer the following questions."
   ]
  },
  {
   "cell_type": "code",
   "execution_count": null,
   "metadata": {},
   "outputs": [],
   "source": []
  },
  {
   "cell_type": "markdown",
   "metadata": {},
   "source": [
    "e. What is the p-value associated with **ab_page**? Why does it differ from the value you found in **Part II**?<br><br>  **Hint**: What are the null and alternative hypotheses associated with your regression model, and how do they compare to the null and alternative hypotheses in the **Part II**?"
   ]
  },
  {
   "cell_type": "markdown",
   "metadata": {},
   "source": [
    "**Put your answer here.**"
   ]
  },
  {
   "cell_type": "markdown",
   "metadata": {},
   "source": [
    "f. Now, you are considering other things that might influence whether or not an individual converts.  Discuss why it is a good idea to consider other factors to add into your regression model.  Are there any disadvantages to adding additional terms into your regression model?"
   ]
  },
  {
   "cell_type": "markdown",
   "metadata": {},
   "source": [
    "**Put your answer here.**"
   ]
  },
  {
   "cell_type": "markdown",
   "metadata": {},
   "source": [
    "g. Now along with testing if the conversion rate changes for different pages, also add an effect based on which country a user lives. You will need to read in the **countries.csv** dataset and merge together your datasets on the approporiate rows.  [Here](https://pandas.pydata.org/pandas-docs/stable/generated/pandas.DataFrame.join.html) are the docs for joining tables. \n",
    "\n",
    "Does it appear that country had an impact on conversion?  Don't forget to create dummy variables for these country columns - **Hint: You will need two columns for the three dummy variables.** Provide the statistical output as well as a written response to answer this question."
   ]
  },
  {
   "cell_type": "code",
   "execution_count": null,
   "metadata": {},
   "outputs": [],
   "source": [
    "countries_df = pd.read_csv('./countries.csv')\n",
    "df_new = countries_df.set_index('user_id').join(df2.set_index('user_id'), how='inner')"
   ]
  },
  {
   "cell_type": "code",
   "execution_count": null,
   "metadata": {},
   "outputs": [],
   "source": [
    "### Create the necessary dummy variables"
   ]
  },
  {
   "cell_type": "markdown",
   "metadata": {},
   "source": [
    "h. Though you have now looked at the individual factors of country and page on conversion, we would now like to look at an interaction between page and country to see if there significant effects on conversion.  Create the necessary additional columns, and fit the new model.  \n",
    "\n",
    "Provide the summary results, and your conclusions based on the results."
   ]
  },
  {
   "cell_type": "code",
   "execution_count": null,
   "metadata": {},
   "outputs": [],
   "source": [
    "### Fit Your Linear Model And Obtain the Results"
   ]
  },
  {
   "cell_type": "code",
   "execution_count": null,
   "metadata": {},
   "outputs": [],
   "source": []
  }
 ],
 "metadata": {
  "kernelspec": {
   "display_name": "Python [default]",
   "language": "python",
   "name": "python3"
  },
  "language_info": {
   "codemirror_mode": {
    "name": "ipython",
    "version": 3
   },
   "file_extension": ".py",
   "mimetype": "text/x-python",
   "name": "python",
   "nbconvert_exporter": "python",
   "pygments_lexer": "ipython3",
   "version": "3.6.4"
  }
 },
 "nbformat": 4,
 "nbformat_minor": 2
}
